{
 "metadata": {
  "language_info": {
   "codemirror_mode": {
    "name": "ipython",
    "version": 3
   },
   "file_extension": ".py",
   "mimetype": "text/x-python",
   "name": "python",
   "nbconvert_exporter": "python",
   "pygments_lexer": "ipython3",
   "version": "3.7.6-final"
  },
  "orig_nbformat": 2,
  "kernelspec": {
   "name": "python_defaultSpec_1599145129117",
   "display_name": "Python 3.7.6 64-bit ('base': conda)"
  }
 },
 "nbformat": 4,
 "nbformat_minor": 2,
 "cells": [
  {
   "cell_type": "markdown",
   "metadata": {},
   "source": [
    "### Auto Sort Downloads Folder on mac\n",
    "Sort through certain file types in the downloads Folder\n",
    "- images (png, jpeg, jpg, etc.)\n",
    "- videos (mp4, etc.)\n"
   ]
  },
  {
   "cell_type": "code",
   "execution_count": 1,
   "metadata": {},
   "outputs": [],
   "source": [
    "# Import dependencies\n",
    "import os\n",
    "import shutil"
   ]
  },
  {
   "cell_type": "code",
   "execution_count": 13,
   "metadata": {},
   "outputs": [],
   "source": [
    "mainpath='/Users/jacobmannix/Desktop/folder'\n",
    "mainfiles = os.listdir(sourcepath)\n",
    "\n",
    "image_path = sourcepath + \"/images\"\n",
    "video_path = sourcepath + \"/videos\"\n",
    "audio_path = sourcepath + \"/audio\"\n",
    "svg_path = sourcepath + \"/images/svg\"\n",
    "\n",
    "# https://www.computerhope.com/issues/ch001789.htm\n",
    "image_types = ('.jpeg', 'jpg', 'JPG', 'jpeg-2000', 'png', 'HEIC', 'openexr', 'tiff', 'gif', 'raw')\n",
    "video_types = ('mp4', '.avi', 'mkv', '.h264', '.h265', 'm4v', 'mov', 'mpg', 'mpeg', 'wmv')\n",
    "audio_types = ('aif', 'cda', 'mid', 'midi', 'mp3', 'mpa', 'ogg', 'wav', 'wma', 'wpl')\n",
    "svg_types = ('.svg')\n",
    "\n",
    "for file in mainfiles:\n",
    "    if file.endswith(image_types):\n",
    "        shutil.move(os.path.join(sourcepath, file), os.path.join(image_path, file))\n",
    "    elif file.endswith(video_types):\n",
    "        shutil.move(os.path.join(sourcepath, file), os.path.join(video_path, file))\n",
    "    elif file.endswith(audio_types):\n",
    "        shutil.move(os.path.join(sourcepath, file), os.path.join(video_path, file))\n",
    "\n"
   ]
  },
  {
   "cell_type": "code",
   "execution_count": 22,
   "metadata": {},
   "outputs": [],
   "source": [
    "mainpath='/Users/jacobmannix/Desktop/folder'\n",
    "mainfiles = os.listdir(sourcepath)\n",
    "\n",
    "\n",
    "folders = ((image_types, image_path), (video_types, video_path), (audio_types, audio_path))\n",
    "\n",
    "\n",
    "for types, path in folders:\n",
    "    for file in mainfiles:\n",
    "        if file.endswith(types):\n",
    "            shutil.move(os.path.join(sourcepath, file), os.path.join(sourcepath + path, file))"
   ]
  },
  {
   "cell_type": "code",
   "execution_count": 30,
   "metadata": {},
   "outputs": [
    {
     "output_type": "error",
     "ename": "SyntaxError",
     "evalue": "invalid syntax (<ipython-input-30-e6d33af8086c>, line 3)",
     "traceback": [
      "\u001b[0;36m  File \u001b[0;32m\"<ipython-input-30-e6d33af8086c>\"\u001b[0;36m, line \u001b[0;32m3\u001b[0m\n\u001b[0;31m    types_path = ((${other}_type, other_path))\u001b[0m\n\u001b[0m                   ^\u001b[0m\n\u001b[0;31mSyntaxError\u001b[0m\u001b[0;31m:\u001b[0m invalid syntax\n"
     ]
    }
   ],
   "source": [
    "other = ('image')\n",
    "\n",
    "types_path = ((other_type, other_path))\n",
    "\n",
    "# print(types_path)"
   ]
  },
  {
   "cell_type": "code",
   "execution_count": 58,
   "metadata": {},
   "outputs": [],
   "source": [
    "# Auto Sort Downloads\n",
    "\n",
    "mainpath='/Users/jacobmannix/Desktop/folder'\n",
    "mainfiles = os.listdir(mainpath)\n",
    "\n",
    "folders = (\n",
    "    ( # Images\n",
    "        \"/images\",\n",
    "        ('.jpeg', 'jpg', 'JPG', 'jpeg-2000', 'png', 'HEIC', 'openexr', 'tiff', 'gif', 'raw')\n",
    "    ),\n",
    "    ( # Video\n",
    "        \"/videos\",\n",
    "        ('mp4', '.avi', 'mkv', '.h264', '.h265', 'm4v', 'mov', 'mpg', 'mpeg', 'wmv')\n",
    "    ),\n",
    "    ( # Audio\n",
    "        \"/audio\",\n",
    "        ('aif', 'cda', 'mid', 'midi', 'mp3', 'mpa', 'ogg', 'wav', 'wma', 'wpl')\n",
    "    ),\n",
    "    ( # SVG\n",
    "        \"/images/svg\",\n",
    "        ('.svg')\n",
    "    )\n",
    ")\n",
    "\n",
    "for path, types in folders:\n",
    "    if os.path.isdir(sourcepath + path) == True:\n",
    "        for file in mainfiles:\n",
    "            if file.endswith(types):\n",
    "                shutil.move(os.path.join(sourcepath, file), os.path.join(sourcepath + path, file))\n",
    "    else:\n",
    "        os.mkdir(sourcepath + path)\n",
    "\n",
    "            \n",
    "\n",
    "\n"
   ]
  },
  {
   "cell_type": "code",
   "execution_count": 48,
   "metadata": {},
   "outputs": [],
   "source": [
    "path = '/Users/jacobmannix/Desktop/folder/videos'\n",
    "os.mkdir(path)"
   ]
  },
  {
   "cell_type": "code",
   "execution_count": 49,
   "metadata": {},
   "outputs": [
    {
     "output_type": "execute_result",
     "data": {
      "text/plain": "True"
     },
     "metadata": {},
     "execution_count": 49
    }
   ],
   "source": []
  },
  {
   "cell_type": "code",
   "execution_count": 54,
   "metadata": {
    "tags": []
   },
   "outputs": [
    {
     "output_type": "stream",
     "name": "stdout",
     "text": "false\n"
    }
   ],
   "source": [
    "if os.path.isdir(sourcepath + path) == True:\n",
    "    print(sourcepath + path)\n",
    "else:\n",
    "    print('false')"
   ]
  },
  {
   "cell_type": "code",
   "execution_count": null,
   "metadata": {},
   "outputs": [],
   "source": []
  }
 ]
}